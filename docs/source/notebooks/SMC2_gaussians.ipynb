{
 "cells": [
  {
   "cell_type": "markdown",
   "metadata": {},
   "source": [
    "Sampling n-dimensional distributions that have multiple peaks in the posterior distribution with a standard Metropolis-Hastings algorithm can be very difficult- if not even impossible, as the Markov Chain often gets stuck in either of the minima.\n",
    "\n",
    "This problem can be avoided by running many (n_chains) Markov Chains in parallel for (n_steps) steps. To speed this process up we do not sample right away from the posterior distribution, but rather from an intermediate distribution that is similar to the previous distribution. Once the sampling for all the chains is finished, the algorithm enters a 'transitional stage'.\n",
    "\n",
    "In this stage the similarity between the intermediate distributions is evaluated by a tempering parameter (beta), which is autmatically determined from the sampling results (coefficient of variation[COV]) from the previous intermediate distribution. If the COV is high the cooling is slow, resulting in small steps in beta and vice versa.\n",
    "Also based on the parameter distributions the MultivariateProposal is updated and new seed points for the following Markov Chains are determined. The end points of the Markov Chains with the highest likelihoods are chosen as new seed-points for the Markov Chains of the next sampling stage.\n",
    "\n",
    "So the sampling of the intermediate distribution is repeated until beta > 1., which means that finally the posterior distribution is reached."
   ]
  },
  {
   "cell_type": "code",
   "execution_count": 8,
   "metadata": {
    "collapsed": true
   },
   "outputs": [],
   "source": [
    "import pymc3 as pm\n",
    "import numpy as np\n",
    "from pymc3.step_methods import smc\n",
    "import theano.tensor as tt\n",
    "from matplotlib import pyplot as plt\n",
    "from tempfile import mkdtemp\n",
    "import shutil\n",
    "%matplotlib inline\n",
    "\n",
    "test_folder = mkdtemp(prefix='ATMIP_TEST')"
   ]
  },
  {
   "cell_type": "markdown",
   "metadata": {},
   "source": [
    "The number of Markov Chains and the number of steps each Markov Chain is sampling has to be defined. As well as the tune_interval and the number of processors to be used in the parallel sampling. In this very simple example using only one processor is faster than forking the interpreter. However, if the calculation cost of the model increases it becomes more efficient to use many processors."
   ]
  },
  {
   "cell_type": "code",
   "execution_count": 9,
   "metadata": {
    "collapsed": true
   },
   "outputs": [],
   "source": [
    "n_chains = 500\n",
    "n_steps = 100\n",
    "tune_interval = 25\n",
    "n_jobs = 1"
   ]
  },
  {
   "cell_type": "markdown",
   "metadata": {},
   "source": [
    "Define the number of dimensions for the Multivariate Gaussians, their weights and the covariance matrix. "
   ]
  },
  {
   "cell_type": "code",
   "execution_count": 10,
   "metadata": {
    "collapsed": true
   },
   "outputs": [],
   "source": [
    "n = 4\n",
    "\n",
    "mu1 = np.ones(n) * (1. / 2)\n",
    "mu2 = -mu1\n",
    "\n",
    "stdev = 0.1\n",
    "sigma = np.power(stdev, 2) * np.eye(n)\n",
    "isigma = np.linalg.inv(sigma)\n",
    "dsigma = np.linalg.det(sigma)\n",
    "\n",
    "w1 = stdev\n",
    "w2 = (1 - stdev)\n"
   ]
  },
  {
   "cell_type": "markdown",
   "metadata": {},
   "source": [
    "The pymc3 Model:"
   ]
  },
  {
   "cell_type": "code",
   "execution_count": 11,
   "metadata": {
    "collapsed": true
   },
   "outputs": [],
   "source": [
    "def two_gaussians(x):\n",
    "    log_like1 = - 0.5 * n * tt.log(2 * np.pi) \\\n",
    "                - 0.5 * tt.log(dsigma) \\\n",
    "                - 0.5 * (x - mu1).T.dot(isigma).dot(x - mu1)\n",
    "    log_like2 = - 0.5 * n * tt.log(2 * np.pi) \\\n",
    "                - 0.5 * tt.log(dsigma) \\\n",
    "                - 0.5 * (x - mu2).T.dot(isigma).dot(x - mu2)\n",
    "    return tt.log(w1 * tt.exp(log_like1) + w2 * tt.exp(log_like2))\n",
    "\n",
    "\n",
    "with pm.Model() as ATMIP_test:\n",
    "    X = pm.Uniform('X',\n",
    "                   shape=n,\n",
    "                   lower=-2. * np.ones_like(mu1),\n",
    "                   upper=2. * np.ones_like(mu1),\n",
    "                   testval=-1. * np.ones_like(mu1),\n",
    "                   transform=None)\n",
    "    like = pm.Deterministic('like', two_gaussians(X))\n",
    "    llk = pm.Potential('like', like)"
   ]
  },
  {
   "cell_type": "markdown",
   "metadata": {},
   "source": [
    "Note: In contrast to other pymc3 samplers here we have to define a random variable 'like' that contains the model likelihood. As the likelihood has to be stored in the sampling traces aloong with the model parameter samples, in order to determine the coefficient of variation [COV] in each transition stage."
   ]
  },
  {
   "cell_type": "markdown",
   "metadata": {},
   "source": [
    "Now the sampler is initialised dependent on the previous specifications. "
   ]
  },
  {
   "cell_type": "code",
   "execution_count": 12,
   "metadata": {
    "collapsed": true
   },
   "outputs": [],
   "source": [
    "with ATMIP_test:\n",
    "    step = smc.SMC(\n",
    "        n_chains=n_chains, tune_interval=tune_interval,\n",
    "        likelihood_name=ATMIP_test.deterministics[0].name)"
   ]
  },
  {
   "cell_type": "markdown",
   "metadata": {},
   "source": [
    "Finally, the sampling is executed."
   ]
  },
  {
   "cell_type": "code",
   "execution_count": null,
   "metadata": {
    "collapsed": false
   },
   "outputs": [
    {
     "name": "stderr",
     "output_type": "stream",
     "text": [
      "124750it [00:00, 1077799.71it/s]\n",
      "124750it [00:08, 28052.58it/s]\n",
      "124750it [00:08, 14703.71it/s]\n",
      "124750it [00:08, 14459.77it/s]\n",
      "10296it [00:02, 6569.36it/s]"
     ]
    }
   ],
   "source": [
    "mtrace = smc.ATMIP_sample(\n",
    "    n_steps=n_steps,\n",
    "    step=step,\n",
    "    n_jobs=n_jobs,\n",
    "    progressbar=False,\n",
    "    stage='0',\n",
    "    homepath=test_folder,\n",
    "    model=ATMIP_test,\n",
    "    rm_flag=True)"
   ]
  },
  {
   "cell_type": "markdown",
   "metadata": {},
   "source": [
    "Note: Complex models that run a long time and might for whatever reason crash during the sampling. Then the user would like to restart the sampling in the stage when the sampler stopped. This can be done by setting the stage argument to the right stage number(a string!!!). The rm_flag determines whether existing results are deleted- there is NO additional warning so far, so the user should pay attention to that one! "
   ]
  },
  {
   "cell_type": "markdown",
   "metadata": {},
   "source": [
    "Plotting the results using the traceplot."
   ]
  },
  {
   "cell_type": "code",
   "execution_count": null,
   "metadata": {
    "collapsed": false
   },
   "outputs": [],
   "source": [
    "def last_sample(x):\n",
    "    return x[(n_steps - 1)::n_steps]\n",
    "\n",
    "axs = pm.traceplot(mtrace, transform=last_sample, combined=True)\n",
    "\n",
    "plt.show()"
   ]
  },
  {
   "cell_type": "markdown",
   "metadata": {},
   "source": [
    "Finally, we delete the sampling result folder. This folder may occupy significant disc-space (Gigabytes), depending on the number of sampling parameters for complex models. So we advice the user to check in advance if there is enough space on the disc."
   ]
  },
  {
   "cell_type": "code",
   "execution_count": 8,
   "metadata": {
    "collapsed": true
   },
   "outputs": [],
   "source": [
    "shutil.rmtree(test_folder)"
   ]
  },
  {
   "cell_type": "code",
   "execution_count": null,
   "metadata": {
    "collapsed": true
   },
   "outputs": [],
   "source": []
  }
 ],
 "metadata": {
  "kernelspec": {
   "display_name": "Python 2",
   "language": "python",
   "name": "python2"
  },
  "language_info": {
   "codemirror_mode": {
    "name": "ipython",
    "version": 2
   },
   "file_extension": ".py",
   "mimetype": "text/x-python",
   "name": "python",
   "nbconvert_exporter": "python",
   "pygments_lexer": "ipython2",
   "version": "2.7.3"
  }
 },
 "nbformat": 4,
 "nbformat_minor": 0
}
